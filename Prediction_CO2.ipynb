{
 "cells": [
  {
   "cell_type": "markdown",
   "id": "03daec40",
   "metadata": {},
   "source": [
    "## Notebook 2: Apprentissage automatique, Regression: Polution CO2"
   ]
  },
  {
   "cell_type": "markdown",
   "id": "2e082814",
   "metadata": {},
   "source": [
    "#### Importation des librairies"
   ]
  },
  {
   "cell_type": "code",
   "execution_count": 1,
   "id": "82bfb92a",
   "metadata": {},
   "outputs": [],
   "source": [
    "import pandas as pd\n",
    "import numpy as np\n",
    "#-------------------------------------------------\n",
    "import sklearn\n",
    "from sklearn.model_selection import train_test_split\n",
    "from sklearn.impute import KNNImputer\n",
    "from sklearn.metrics import *\n",
    "#-------------------------------------------------\n",
    "from sklearn.pipeline import Pipeline\n",
    "from sklearn.pipeline import make_pipeline\n",
    "\n",
    "from sklearn.preprocessing import OneHotEncoder, StandardScaler, MinMaxScaler, LabelEncoder\n",
    "from sklearn.compose import ColumnTransformer\n",
    "from sklearn.compose import TransformedTargetRegressor, make_column_transformer\n",
    "\n",
    "#--------------------------------------------------------\n",
    "from sklearn.dummy import DummyRegressor\n",
    "from sklearn.linear_model import LinearRegression, SGDRegressor\n",
    "\n",
    "#--------------------------------------------------------\n",
    "from sklearn.ensemble import RandomForestRegressor, GradientBoostingRegressor\n",
    "from sklearn.inspection import permutation_importance\n",
    "#------------------------------------------------\n",
    "from xgboost import XGBRegressor\n",
    "\n",
    "#-----------------------------------------------------------\n",
    "from sklearn.model_selection import GridSearchCV"
   ]
  },
  {
   "cell_type": "markdown",
   "id": "dbeb2921",
   "metadata": {},
   "source": [
    "## Checklist\n",
    "\n",
    "Depuis 2001, **l’ADEME** acquiert tous les ans ces données auprès de **l’Union Technique de l’Automobile du motocycle et du Cycle UTAC** (en charge de l’homologation des véhicules avant leur mise en vente) en accord avec le ministère du développement durable.\n",
    "Pour chaque véhicule les données d’origine (transmises par l’Utac) sont les suivantes :\n",
    "\n",
    "* **Les consommations de carburant**\n",
    "\n",
    "* **Les émissions de dioxyde de carbone (CO2)**\n",
    "\n",
    "* **Les émissions des polluants de l’air** (réglementés dans le cadre de la norme Euro)\n",
    "\n",
    "* **L’ensemble des caractéristiques techniques des véhicules** (gammes, marques, modèles, n° de CNIT, type d’énergie ...)\n",
    "\n",
    "\n",
    "\n",
    "# L'inventaire des varaibles pertinentes:\n",
    "\n",
    "Les données comprenent des variables pertinentes suivantes:\n",
    "\n",
    "* **lib_mrq_utac**: La marque, il y'a 12.\n",
    "\n",
    "* **lib_mod**: Le modèle commerciale, il y'a 20.\n",
    "\n",
    "* **cod_cbr**: Le type de carburant, il y a 5.\n",
    "\n",
    "* **hybride**: Information permettant d’identifier les véhicules hybrides (O/N)\n",
    "\n",
    "* **puiss_max** : Puissance maximale\n",
    "\n",
    "* **typ_boite_nb_rapp**: Type boite de vitesse et le nombre de rapport.\n",
    "\n",
    "* **conso_urb**: Consommation urbaine de carburant (en l/100km),\n",
    "\n",
    "* **conso_exurb**: consommation extra urbaine de carburant (en l/100km),\n",
    "\n",
    "* **conso_mixte**: Consommation mixte de carburant (en l/100km),\n",
    "\n",
    "* **co2**: Emission de CO2 (en g/km),\n",
    "\n",
    "* **masse_ordma_min**: Masse en ordre de marche mini\n",
    "\n",
    "* **masse_ordma_max**: Masse en ordre de marche max\n",
    " \n",
    "* **Carrosserie**: Carrosserie\n",
    "\n",
    "* **gamme**: Gamme du véhicule\n",
    "\n",
    "\n",
    "\n",
    "# Objectif\n",
    "\n",
    "Notre objectif majeur dans ce notebook 2 est de :\n",
    "\n",
    "Prédire les emisisions de **CO2** des vehicules en fonction de certaines informations (Variables explicatives)\n",
    "\n",
    "* En utilisant 4 à 5 modéles différents\n",
    "\n",
    "* En comparant  les scores\n",
    "    \n",
    "* En choissisant le meilleur modèle\n",
    "\n",
    "\n",
    "# Description des données\n",
    "\n",
    "Lien vers les données: https://www.data.gouv.fr/fr/datasets/emissions-de-co2-et-de-polluants-des-vehicules-commercialises-en-france/\n"
   ]
  },
  {
   "cell_type": "markdown",
   "id": "4aa43bf0",
   "metadata": {},
   "source": [
    "### Chargement, lecture, apercu et infos des données"
   ]
  },
  {
   "cell_type": "code",
   "execution_count": 2,
   "id": "564f490c",
   "metadata": {},
   "outputs": [],
   "source": [
    "data_model = pd.read_csv(\"data_model.csv\")"
   ]
  },
  {
   "cell_type": "code",
   "execution_count": 3,
   "id": "c01d1981",
   "metadata": {},
   "outputs": [
    {
     "name": "stdout",
     "output_type": "stream",
     "text": [
      " :  ['BERLINE' 'BREAK' 'COUPE' 'CABRIOLET' 'TS TERRAINS/CHEMINS' 'COMBISPACE'\n",
      " 'MINISPACE' 'MONOSPACE COMPACT' 'MONOSPACE' 'MINIBUS' 'COMBISPCACE']\n"
     ]
    }
   ],
   "source": [
    "unique_values = data_model['Carrosserie'].unique()\n",
    "print(\" : \",unique_values)"
   ]
  },
  {
   "cell_type": "markdown",
   "id": "bd400b03",
   "metadata": {},
   "source": [
    "### Selectionner les feautures les plus importans"
   ]
  },
  {
   "cell_type": "code",
   "execution_count": 4,
   "id": "3f815f33",
   "metadata": {},
   "outputs": [],
   "source": [
    "df = data_model[['Carrosserie', 'masse_ordma_min', 'masse_ordma_max', 'co2']]"
   ]
  },
  {
   "cell_type": "code",
   "execution_count": 5,
   "id": "75f869a7",
   "metadata": {},
   "outputs": [
    {
     "name": "stderr",
     "output_type": "stream",
     "text": [
      "/tmp/ipykernel_174583/2377861051.py:5: SettingWithCopyWarning: \n",
      "A value is trying to be set on a copy of a slice from a DataFrame.\n",
      "Try using .loc[row_indexer,col_indexer] = value instead\n",
      "\n",
      "See the caveats in the documentation: https://pandas.pydata.org/pandas-docs/stable/user_guide/indexing.html#returning-a-view-versus-a-copy\n",
      "  df[element]=le.fit_transform(df[element])\n"
     ]
    }
   ],
   "source": [
    "from sklearn.preprocessing import LabelEncoder\n",
    "le= LabelEncoder()\n",
    "objet_columns = df.select_dtypes(include='object').columns\n",
    "for element in objet_columns:\n",
    "    df[element]=le.fit_transform(df[element])"
   ]
  },
  {
   "cell_type": "markdown",
   "id": "0587cf73",
   "metadata": {},
   "source": [
    "### Traiter la colonne Carrosserie"
   ]
  },
  {
   "cell_type": "code",
   "execution_count": 6,
   "id": "78e4375f",
   "metadata": {},
   "outputs": [
    {
     "data": {
      "text/html": [
       "<div>\n",
       "<style scoped>\n",
       "    .dataframe tbody tr th:only-of-type {\n",
       "        vertical-align: middle;\n",
       "    }\n",
       "\n",
       "    .dataframe tbody tr th {\n",
       "        vertical-align: top;\n",
       "    }\n",
       "\n",
       "    .dataframe thead th {\n",
       "        text-align: right;\n",
       "    }\n",
       "</style>\n",
       "<table border=\"1\" class=\"dataframe\">\n",
       "  <thead>\n",
       "    <tr style=\"text-align: right;\">\n",
       "      <th></th>\n",
       "      <th>Carrosserie</th>\n",
       "      <th>masse_ordma_min</th>\n",
       "      <th>masse_ordma_max</th>\n",
       "      <th>co2</th>\n",
       "    </tr>\n",
       "  </thead>\n",
       "  <tbody>\n",
       "    <tr>\n",
       "      <th>0</th>\n",
       "      <td>0</td>\n",
       "      <td>1505.0</td>\n",
       "      <td>1505.0</td>\n",
       "      <td>182.0</td>\n",
       "    </tr>\n",
       "    <tr>\n",
       "      <th>1</th>\n",
       "      <td>0</td>\n",
       "      <td>1555.0</td>\n",
       "      <td>1555.0</td>\n",
       "      <td>186.0</td>\n",
       "    </tr>\n",
       "    <tr>\n",
       "      <th>2</th>\n",
       "      <td>0</td>\n",
       "      <td>1565.0</td>\n",
       "      <td>1565.0</td>\n",
       "      <td>134.0</td>\n",
       "    </tr>\n",
       "    <tr>\n",
       "      <th>3</th>\n",
       "      <td>0</td>\n",
       "      <td>1565.0</td>\n",
       "      <td>1565.0</td>\n",
       "      <td>134.0</td>\n",
       "    </tr>\n",
       "    <tr>\n",
       "      <th>4</th>\n",
       "      <td>0</td>\n",
       "      <td>1565.0</td>\n",
       "      <td>1565.0</td>\n",
       "      <td>139.0</td>\n",
       "    </tr>\n",
       "    <tr>\n",
       "      <th>5</th>\n",
       "      <td>0</td>\n",
       "      <td>1565.0</td>\n",
       "      <td>1565.0</td>\n",
       "      <td>139.0</td>\n",
       "    </tr>\n",
       "    <tr>\n",
       "      <th>6</th>\n",
       "      <td>0</td>\n",
       "      <td>1565.0</td>\n",
       "      <td>1565.0</td>\n",
       "      <td>136.0</td>\n",
       "    </tr>\n",
       "    <tr>\n",
       "      <th>7</th>\n",
       "      <td>1</td>\n",
       "      <td>1615.0</td>\n",
       "      <td>1615.0</td>\n",
       "      <td>137.0</td>\n",
       "    </tr>\n",
       "    <tr>\n",
       "      <th>8</th>\n",
       "      <td>1</td>\n",
       "      <td>1615.0</td>\n",
       "      <td>1615.0</td>\n",
       "      <td>137.0</td>\n",
       "    </tr>\n",
       "    <tr>\n",
       "      <th>9</th>\n",
       "      <td>1</td>\n",
       "      <td>1615.0</td>\n",
       "      <td>1615.0</td>\n",
       "      <td>142.0</td>\n",
       "    </tr>\n",
       "  </tbody>\n",
       "</table>\n",
       "</div>"
      ],
      "text/plain": [
       "   Carrosserie  masse_ordma_min  masse_ordma_max    co2\n",
       "0            0           1505.0           1505.0  182.0\n",
       "1            0           1555.0           1555.0  186.0\n",
       "2            0           1565.0           1565.0  134.0\n",
       "3            0           1565.0           1565.0  134.0\n",
       "4            0           1565.0           1565.0  139.0\n",
       "5            0           1565.0           1565.0  139.0\n",
       "6            0           1565.0           1565.0  136.0\n",
       "7            1           1615.0           1615.0  137.0\n",
       "8            1           1615.0           1615.0  137.0\n",
       "9            1           1615.0           1615.0  142.0"
      ]
     },
     "execution_count": 6,
     "metadata": {},
     "output_type": "execute_result"
    }
   ],
   "source": [
    "df.head(10)"
   ]
  },
  {
   "cell_type": "code",
   "execution_count": 7,
   "id": "d08a9139",
   "metadata": {},
   "outputs": [
    {
     "name": "stdout",
     "output_type": "stream",
     "text": [
      "<class 'pandas.core.frame.DataFrame'>\n",
      "RangeIndex: 55028 entries, 0 to 55027\n",
      "Data columns (total 4 columns):\n",
      " #   Column           Non-Null Count  Dtype  \n",
      "---  ------           --------------  -----  \n",
      " 0   Carrosserie      55028 non-null  int64  \n",
      " 1   masse_ordma_min  55028 non-null  float64\n",
      " 2   masse_ordma_max  55028 non-null  float64\n",
      " 3   co2              55028 non-null  float64\n",
      "dtypes: float64(3), int64(1)\n",
      "memory usage: 1.7 MB\n"
     ]
    }
   ],
   "source": [
    "df.info()"
   ]
  },
  {
   "cell_type": "markdown",
   "id": "2254f351",
   "metadata": {},
   "source": [
    "### Prediction de CO2\n",
    "    \n",
    "Pour chacun de nos modèles:\n",
    "   * **DummyRegressor**,\n",
    "   * **LinearRegression**, \n",
    "   * **SGDRegressor**, \n",
    "   * **RandomForestRegressor**,\n",
    "   * **GradientBoostingRegressor**,\n",
    "   * **XGBRegressor**, \n",
    "    \n",
    "Nous allons predire le niveau d'émission de **Co2** puis établir une comparaison entre les performances de chaque modèle.\n",
    "\n",
    "    Appliquer un GridSearch pour optimiser les hyperparamètres de chaque modèle\n",
    "    Paramètrer dans GridSearch les scores qui sont adaptés à la régression (R2, MAE et RMSE)\n",
    "    Identifier le meilleur modèle"
   ]
  },
  {
   "cell_type": "code",
   "execution_count": 8,
   "id": "f1bbc7ee",
   "metadata": {},
   "outputs": [],
   "source": [
    "X = df.drop(['co2'] ,axis =1)\n",
    "y = df['co2']\n",
    "\n",
    "scaler = StandardScaler()\n",
    "\n",
    "scaler.fit(X)\n",
    "\n",
    "X = scaler.transform(X)"
   ]
  },
  {
   "cell_type": "code",
   "execution_count": 9,
   "id": "e215bd5e",
   "metadata": {},
   "outputs": [],
   "source": [
    "# Create the label encoder\n",
    "le = LabelEncoder()\n",
    "\n",
    "# Fit the label encoder to the target variable\n",
    "le.fit(y)\n",
    "\n",
    "# Transform the target variable\n",
    "y= le.transform(y)"
   ]
  },
  {
   "cell_type": "code",
   "execution_count": 10,
   "id": "a6b80f7e",
   "metadata": {},
   "outputs": [
    {
     "name": "stdout",
     "output_type": "stream",
     "text": [
      "=============================================================\n",
      "regreseur 1: DummyRegressor\n",
      "best parameters: {'constant': 0, 'strategy': 'median'}\n",
      "best score: -0.23304448159725616\n",
      "=============================================================\n",
      "\n",
      "=============================================================\n",
      "regreseur 2: LinearRegression\n",
      "best parameters: {'fit_intercept': True}\n",
      "best score: 0.16237163660500403\n",
      "=============================================================\n",
      "\n",
      "=============================================================\n",
      "regreseur 3: SGDRegressor\n",
      "best parameters: {'alpha': 0.001, 'penalty': 'l1'}\n",
      "best score: 0.17056888581811358\n",
      "=============================================================\n",
      "\n",
      "=============================================================\n",
      "regreseur 4: RandomForestRegressor\n",
      "best parameters: {'max_depth': None, 'min_samples_split': 5, 'n_estimators': 50}\n",
      "best score: 0.2962822830499814\n",
      "=============================================================\n",
      "\n",
      "=============================================================\n",
      "regreseur 5: GradientBoostingRegressor\n",
      "best parameters: {'learning_rate': 0.1, 'max_depth': 5, 'n_estimators': 50}\n",
      "best score: 0.3743341406617423\n",
      "=============================================================\n",
      "\n",
      "=============================================================\n",
      "regreseur 6: XGBRegressor\n",
      "best parameters: {'learning_rate': 0.1, 'max_depth': 5, 'n_estimators': 50}\n",
      "best score: 0.36923339113021464\n",
      "=============================================================\n",
      "\n",
      "=============================================================\n",
      "The winner is GradientBoostingRegressor with a score of 0.3743341406617423 and parameters:\n",
      "{'learning_rate': 0.1, 'max_depth': 5, 'n_estimators': 50}\n",
      "=============================================================\n"
     ]
    }
   ],
   "source": [
    "from sklearn.ensemble import RandomForestClassifier, GradientBoostingClassifier\n",
    "from sklearn.neighbors import KNeighborsClassifier\n",
    "from sklearn.tree import DecisionTreeClassifier\n",
    "from sklearn.svm import SVC\n",
    "from sklearn.neural_network import MLPClassifier\n",
    "from sklearn.model_selection import GridSearchCV, KFold\n",
    "\n",
    "# Create the classifiers and their respective hyperparameter grids\n",
    "classifiers = [DummyRegressor(),LinearRegression(),SGDRegressor(),RandomForestRegressor(),GradientBoostingRegressor(),XGBRegressor()]\n",
    "param_grids = [\n",
    "    {'strategy': ['mean', 'median'], 'constant': [0, 1]},\n",
    "    {'fit_intercept': [True, False]},\n",
    "    {'alpha': [0.0001, 0.001], 'penalty': ['l1', 'l2']},\n",
    "    {'n_estimators': [50, 100, 200], 'max_depth': [None, 2, 4], 'min_samples_split': [3, 5, 7]},\n",
    "    {'n_estimators': [50, 100], 'learning_rate': [0.1, 0.01], 'max_depth': [3, 5]},\n",
    "    {'learning_rate': [0.1, 0.01], 'max_depth': [3, 5], 'n_estimators': [50, 80]}]\n",
    "\n",
    "# Create the KFold object\n",
    "#kf = KFold(n_splits=5)\n",
    "\n",
    "# Create a list to store the results\n",
    "results = []\n",
    "\n",
    "# Loop through the classifiers and their hyperparameter grids\n",
    "for i, (clf, param_grid) in enumerate(zip(classifiers, param_grids)):\n",
    "    # Create the GridSearchCV object\n",
    "    grid_search = GridSearchCV(clf, param_grid, scoring='r2', cv=5)\n",
    "    # Fit the GridSearchCV object to the data\n",
    "    grid_search.fit(X, y)\n",
    "    # Store the results\n",
    "    results.append((type(clf).__name__, grid_search.best_params_, grid_search.best_score_))\n",
    "    # Print the best parameters and scores\n",
    "    print(\"=============================================================\")\n",
    "    print(f\"regreseur {i+1}: {type(clf).__name__}\")\n",
    "    print(f\"best parameters: {grid_search.best_params_}\")\n",
    "    print(f\"best score: {grid_search.best_score_}\")\n",
    "    print(\"=============================================================\\n\")\n",
    "\n",
    "# Find the winner\n",
    "winner = max(results, key=lambda x: x[2])\n",
    "\n",
    "# Print the winner\n",
    "print(\"=============================================================\")\n",
    "print(f\"The winner is {winner[0]} with a score of {winner[2]} and parameters:\")\n",
    "print(winner[1])\n",
    "print(\"=============================================================\")"
   ]
  },
  {
   "cell_type": "code",
   "execution_count": 11,
   "id": "960d3133",
   "metadata": {},
   "outputs": [
    {
     "name": "stdout",
     "output_type": "stream",
     "text": [
      "=============================================================\n",
      "The winner is RandomForestRegressor(min_samples_split=5) with a score of 0.28434952986120576\n",
      "=============================================================\n"
     ]
    }
   ],
   "source": [
    "from sklearn.ensemble import RandomForestRegressor\n",
    "from sklearn.model_selection import RandomizedSearchCV\n",
    "\n",
    "# Create the hyperparameter space\n",
    "param_grid = {\n",
    "    'n_estimators': [50, 100, 200],\n",
    "    'max_depth': [None, 2, 4],\n",
    "    'min_samples_split': [3, 5, 7],\n",
    "}\n",
    "\n",
    "# Create the RandomizedSearchCV object\n",
    "random_search = RandomizedSearchCV(RandomForestRegressor(), param_grid, scoring='r2', cv=5)\n",
    "\n",
    "# Fit the RandomizedSearchCV object to the data\n",
    "random_search.fit(X, y)\n",
    "\n",
    "# Print the best parameters and scores\n",
    "print(\"=============================================================\")\n",
    "print(f\"The winner is {random_search.best_estimator_} with a score of {random_search.best_score_}\")\n",
    "print(\"=============================================================\")\n"
   ]
  },
  {
   "cell_type": "markdown",
   "id": "65dd3d8a",
   "metadata": {},
   "source": [
    "### Application Web\n",
    "\n",
    "Développer une application Streamlit avec les options suivantes :\n",
    "\n",
    "    1- L'utilisateur doit selectionner le type du carrosserie à partire d'un menu déroulant\n",
    "    2- L'utilisateur doit saisir 'masse_ordma_min' et 'masse_ordma_max' dans deux champs de saisie différent\n",
    "    3- Programmer un boutton pour lancer la prédiction de CO2"
   ]
  },
  {
   "cell_type": "markdown",
   "id": "ec997023",
   "metadata": {},
   "source": [
    "    masse_ordma_min = 825.0 - 2760.0\n",
    "    masse_ordma_max = 825.0 - 3094.0\n",
    "    Carrosserie = 0 - 10\n",
    "\n",
    "\n",
    "    co2 = 13.0 - 572.0"
   ]
  },
  {
   "cell_type": "code",
   "execution_count": 12,
   "id": "a85c9777",
   "metadata": {},
   "outputs": [
    {
     "name": "stdout",
     "output_type": "stream",
     "text": [
      "[200.56118619]\n"
     ]
    }
   ],
   "source": [
    "#'Carrosserie', 'masse_ordma_min', 'masse_ordma_max'\n",
    "df_data=[[10,1505.0,1505.0]]\n",
    "model=random_search.best_estimator_\n",
    "predictions = model.predict(df_data)\n",
    "\n",
    "#donne toujour le meme resulta quand relancé\n",
    "print(predictions)"
   ]
  },
  {
   "cell_type": "code",
   "execution_count": 13,
   "id": "fb237eaa",
   "metadata": {},
   "outputs": [
    {
     "name": "stdout",
     "output_type": "stream",
     "text": [
      "[221.16292338]\n"
     ]
    }
   ],
   "source": [
    "from sklearn.linear_model import LinearRegression\n",
    "df_test=[[]]\n",
    "# Get the best regressor\n",
    "regressor = winner[0]\n",
    "\n",
    "# Get the best parameters\n",
    "parameters = winner[1]\n",
    "\n",
    "# Convert the parameters to a dictionary\n",
    "parameters_dict = dict(parameters)\n",
    "\n",
    "# Create a new regressor with the best parameters\n",
    "if regressor == 'GradientBoostingRegressor':\n",
    "    new_regressor = GradientBoostingRegressor(**parameters_dict)\n",
    "else:\n",
    "    # Handle other regressors accordingly\n",
    "    pass\n",
    "\n",
    "# Fit the new regressor to the data\n",
    "new_regressor.fit(X, y)\n",
    "\n",
    "# Get the predictions for new data\n",
    "predictions = new_regressor.predict(df_data)\n",
    "\n",
    "#donne des resulta peu diferant quand relancé\n",
    "print(predictions)"
   ]
  }
 ],
 "metadata": {
  "kernelspec": {
   "display_name": "Python 3 (ipykernel)",
   "language": "python",
   "name": "python3"
  },
  "language_info": {
   "codemirror_mode": {
    "name": "ipython",
    "version": 3
   },
   "file_extension": ".py",
   "mimetype": "text/x-python",
   "name": "python",
   "nbconvert_exporter": "python",
   "pygments_lexer": "ipython3",
   "version": "3.11.2"
  }
 },
 "nbformat": 4,
 "nbformat_minor": 5
}
